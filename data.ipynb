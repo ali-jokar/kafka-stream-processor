{
  "nbformat": 4,
  "nbformat_minor": 0,
  "metadata": {
    "colab": {
      "provenance": []
    },
    "kernelspec": {
      "name": "python3",
      "display_name": "Python 3"
    },
    "language_info": {
      "name": "python"
    }
  },
  "cells": [
    {
      "cell_type": "code",
      "execution_count": null,
      "metadata": {
        "id": "be1fw4ndB_kx"
      },
      "outputs": [],
      "source": [
        "import uuid\n",
        "import requests\n",
        "import json\n",
        "import time\n",
        "import logging\n",
        "from datetime import datetime\n",
        "from kafka import KafkaProducer\n",
        "\n",
        "def get_data():\n",
        "    try:\n",
        "        res = requests.get(\"https://randomuser.me/api/\")\n",
        "        res.raise_for_status()\n",
        "        return res.json()['results'][0]\n",
        "    except requests.exceptions.RequestException as e:\n",
        "        logging.error(f\"An error occurred while fetching data: {e}\")\n",
        "        return None\n",
        "\n",
        "def format_data(res):\n",
        "    try:\n",
        "        data = {}\n",
        "        location = res['location']\n",
        "        data['id'] = str(uuid.uuid4())\n",
        "        data['first_name'] = res['name']['first']\n",
        "        data['last_name'] = res['name']['last']\n",
        "        data['gender'] = res['gender']\n",
        "        data['address'] = f\"{location['street']['number']} {location['street']['name']}, {location['city']}, {location['state']}, {location['country']}\"\n",
        "        data['post_code'] = location['postcode']\n",
        "        data['email'] = res['email']\n",
        "        data['username'] = res['login']['username']\n",
        "        data['dob'] = res['dob']['date']\n",
        "        data['registered_date'] = res['registered']['date']\n",
        "        data['phone'] = res['phone']\n",
        "        data['picture'] = res['picture']['medium']\n",
        "        return data\n",
        "    except KeyError as e:\n",
        "        logging.error(f\"Error in formatting data: {e}\")\n",
        "        return None\n",
        "\n",
        "def stream_data():\n",
        "    try:\n",
        "        producer = KafkaProducer(bootstrap_servers=['broker:29092'], max_block_ms=5000)\n",
        "        curr_time = time.time()\n",
        "\n",
        "        while True:\n",
        "            if time.time() > curr_time + 60: # 1 minute\n",
        "                break\n",
        "            try:\n",
        "                res = get_data()\n",
        "                if res:\n",
        "                    formatted_data = format_data(res)\n",
        "                    if formatted_data:\n",
        "                        producer.send('users_info', json.dumps(formatted_data).encode('utf-8'))\n",
        "            except Exception as e:\n",
        "                logging.error(f'An error occurred: {e}')\n",
        "                continue\n",
        "    except Exception as e:\n",
        "        logging.error(f\"An unexpected error occurred: {e}\")\n",
        "\n",
        "def main():\n",
        "    logging.basicConfig(filename='/path/to/logfile.log', level=logging.ERROR, format='%(asctime)s - %(levelname)s - %(message)s')\n",
        "    stream_data()\n",
        "\n",
        "if __name__ == \"__main__\":\n",
        "    main()"
      ]
    }
  ]
}